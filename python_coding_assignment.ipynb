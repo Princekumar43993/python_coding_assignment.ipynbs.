{
 "cells": [
  {
   "cell_type": "markdown",
   "id": "a44b66b3-651b-4ffc-a67f-8000797e3ee2",
   "metadata": {},
   "source": [
    "# Python Programming Assignment. "
   ]
  },
  {
   "cell_type": "markdown",
   "id": "fbb743ca-24ba-4df0-a85a-3dcd0e66e570",
   "metadata": {},
   "source": [
    "## **Fundamental of Python-Project Work.** "
   ]
  },
  {
   "cell_type": "markdown",
   "id": "5d0fdec9-69f9-42fd-a450-6fc08266078f",
   "metadata": {},
   "source": [
    "## ** Introduction**  \n",
    "Hello everyone My name is **Prince Kumar**, and I am currently a **2nd-year BCA student** at **Vestor College of Management, Patna**.  \n",
    "I am passionate about programming and aspire to become a **Software Developer**.  \n",
    "This project is part of my Python certification assignment, aimed at strengthening my coding skills.  \n",
    "\n",
    "This assignment consists of **15 coding exercises**, categorized into three main sections:  \n"
   ]
  },
  {
   "cell_type": "markdown",
   "id": "1627a8a6-50cb-4c78-b9fe-c9b5edd2cbc2",
   "metadata": {},
   "source": [
    "### ** Section 1: ** Python Operators and Control Structures\n",
    "### ** Section 2: ** Lists and Dictionaries\n",
    "### **Section 3: ** Advanced Topics\n"
   ]
  },
  {
   "cell_type": "markdown",
   "id": "e8d7ee48-b4b1-47b2-96cf-a7519fc33422",
   "metadata": {},
   "source": [
    "# Section 1: Python Operators and Control Structures (5 Question Explanation)\n"
   ]
  },
  {
   "cell_type": "markdown",
   "id": "697d7ce5-0bfe-4768-b5ec-91df284bfdd7",
   "metadata": {},
   "source": [
    "## 1. Question: Write a program to calculate the sum of all numbers in a list using a for loop\n"
   ]
  },
  {
   "cell_type": "markdown",
   "id": "3005ff77-1bf9-4b56-a969-8c6076d688bf",
   "metadata": {},
   "source": [
    "#### Sample Input: numbers = [1,2,3,4,5]\n",
    "#### Sample Output: 15"
   ]
  },
  {
   "cell_type": "markdown",
   "id": "086aaf0b-fe8f-45c2-9b25-e012ca7f6b96",
   "metadata": {},
   "source": [
    "### Solution:"
   ]
  },
  {
   "cell_type": "code",
   "execution_count": 5,
   "id": "1f4dd8c4-2969-4987-83a4-1fc44c6747d6",
   "metadata": {},
   "outputs": [
    {
     "name": "stdout",
     "output_type": "stream",
     "text": [
      "Sum of numbers: 15\n"
     ]
    }
   ],
   "source": [
    "\n",
    "numbers = [1, 2, 3, 4, 5]\n",
    "total = 0\n",
    "for num in numbers:\n",
    "    total += num  \n",
    "print(\"Sum of numbers:\", total)\n"
   ]
  },
  {
   "cell_type": "markdown",
   "id": "b0bd5f0d-9ba3-42a8-9f4f-063c19740042",
   "metadata": {},
   "source": [
    "### Explanation: "
   ]
  },
  {
   "cell_type": "markdown",
   "id": "8fcf8a98-a19d-4158-ac41-72ab2bc4415d",
   "metadata": {},
   "source": [
    "#### 1.Created a list named numbers. \n",
    "#### 2.Initialized total = 0 to store the sum.\n",
    "#### 3.Used a for loop to iterate through each number and add it to total.\n",
    "#### 4.Printed the final sum using print(total)."
   ]
  },
  {
   "cell_type": "markdown",
   "id": "27b8fd95-ef33-4c02-a290-2965247c0e7c",
   "metadata": {},
   "source": [
    "## 2. Question: What is the output the following code"
   ]
  },
  {
   "cell_type": "markdown",
   "id": "ce1ad9fe-9a4b-4e1e-9c23-04f63608d02c",
   "metadata": {},
   "source": [
    "#### Code:\n"
   ]
  },
  {
   "cell_type": "markdown",
   "id": "c82597cf-bccd-45f7-a857-59f7cb7d1deb",
   "metadata": {},
   "source": [
    "#### x = 5\n",
    "#### y = 2\n",
    "#### Print(x ** y)\n",
    "#### Sample Output: 25"
   ]
  },
  {
   "cell_type": "markdown",
   "id": "13c378fb-1971-4be6-8ff9-5d83eb4ec3ae",
   "metadata": {},
   "source": [
    "### Solution: "
   ]
  },
  {
   "cell_type": "code",
   "execution_count": 7,
   "id": "989fa0f3-42c6-4509-b4c3-f5723d1a51cc",
   "metadata": {},
   "outputs": [
    {
     "name": "stdout",
     "output_type": "stream",
     "text": [
      "The output is:  25\n"
     ]
    }
   ],
   "source": [
    "x = 5\n",
    "y = 2\n",
    "print(\"The output is: \",x ** y)"
   ]
  },
  {
   "cell_type": "markdown",
   "id": "d1f56d3c-1485-4c36-a550-0b1e54749d6d",
   "metadata": {},
   "source": [
    "### Explanation: \n"
   ]
  },
  {
   "cell_type": "markdown",
   "id": "2989815a-0407-4643-8c15-ab031452dcad",
   "metadata": {},
   "source": [
    "#### 1. In python the x ** y means 5 raised to the power of 2, which is 5 × 5 = 25\n",
    "#### 2. In Python, the ** (Exponentiation Operator) is used to calculate powers."
   ]
  },
  {
   "cell_type": "markdown",
   "id": "b5f6443d-d09b-4b59-a68d-07f10730ee5a",
   "metadata": {},
   "source": [
    "## 3. Question: Write a python program to check if a number is a pallindrome using a while loop."
   ]
  },
  {
   "cell_type": "markdown",
   "id": "1132e6bd-f750-4d05-b465-97436d9bd945",
   "metadata": {},
   "source": [
    "#### Sample Input: num = 12321\n",
    "#### Sample Output: True"
   ]
  },
  {
   "cell_type": "markdown",
   "id": "38cc42a8-84a6-4604-ba17-e9c20411a596",
   "metadata": {},
   "source": [
    "### Solution:"
   ]
  },
  {
   "cell_type": "code",
   "execution_count": 9,
   "id": "6824fb4b-cf29-4c44-95e1-b38bbd24b2e4",
   "metadata": {},
   "outputs": [
    {
     "name": "stdout",
     "output_type": "stream",
     "text": [
      "Output is: True\n"
     ]
    }
   ],
   "source": [
    "def is_palindrome(n):\n",
    "    original = n  \n",
    "    reverse = 0 \n",
    "\n",
    "    while n > 0:\n",
    "        digit = n % 10  \n",
    "        reverse = reverse * 10 + digit  \n",
    "        n = n // 10  \n",
    "\n",
    "    return original == reverse  \n",
    "\n",
    "# Test case\n",
    "num = 12321\n",
    "print(\"Output is:\",is_palindrome(num))"
   ]
  },
  {
   "cell_type": "markdown",
   "id": "0c2b9e2e-6042-4de4-8965-769bcc2dff7a",
   "metadata": {},
   "source": [
    "### Explanation:"
   ]
  },
  {
   "cell_type": "markdown",
   "id": "1a80ff88-b9cf-4805-a419-4d784d5adea8",
   "metadata": {},
   "source": [
    "#### 1. Stored the original number in original and initialized reverse = 0.\n",
    "#### 2. Used a while loop to extract the last digit and build the reversed number.\n",
    "#### 3. Compared original and reverse to check if they are the same.\n",
    "#### 4. If they match, return True; otherwise, return False."
   ]
  },
  {
   "cell_type": "markdown",
   "id": "56e6eb81-4028-4d1b-b512-4e211f6839f6",
   "metadata": {},
   "source": [
    "## 4. Questions: What is the output of the following code."
   ]
  },
  {
   "cell_type": "markdown",
   "id": "b8ba3228-3ba9-45bd-bfd5-2ef31bcf17ca",
   "metadata": {},
   "source": [
    "#### Code:\n",
    "#### fruits = ['apple', 'banana', 'cherry']\n",
    "#### print(fruits[-1])\n",
    "#### Sample Output: cherry"
   ]
  },
  {
   "cell_type": "markdown",
   "id": "ddda71f8-481d-44d7-9198-0ef3383b630d",
   "metadata": {},
   "source": [
    "### Solution:"
   ]
  },
  {
   "cell_type": "code",
   "execution_count": 11,
   "id": "1ee4699c-6c36-40ac-95f1-9b9e1560de5e",
   "metadata": {},
   "outputs": [
    {
     "name": "stdout",
     "output_type": "stream",
     "text": [
      "Output is:  cherry\n"
     ]
    }
   ],
   "source": [
    "fruits = ['apple', 'banana', 'cherry']\n",
    "print(\"Output is: \",fruits[-1])\n"
   ]
  },
  {
   "cell_type": "markdown",
   "id": "d965f309-4fab-4117-9b24-45c6789bdae6",
   "metadata": {},
   "source": [
    "### Negative Indexing "
   ]
  },
  {
   "cell_type": "code",
   "execution_count": null,
   "id": "f9afea5c-f0aa-435f-a9a4-8eb9909da443",
   "metadata": {},
   "outputs": [],
   "source": [
    "#fruits = ['apple', 'banana', 'cherry']\n",
    "#fruits[-1] -> 'cherry'\n",
    "#fruits[-2] -> 'banana'\n",
    "#fruits[-3] -> 'apple'\n"
   ]
  },
  {
   "cell_type": "markdown",
   "id": "7795c310-58d1-4b0c-953b-c0d962feb1a9",
   "metadata": {},
   "source": [
    "### Explanation:"
   ]
  },
  {
   "cell_type": "markdown",
   "id": "ea5aacea-1592-4ef7-8ef1-d028ffbacf94",
   "metadata": {},
   "source": [
    "#### fruits[-1]  Refers to the last element.\n",
    "#### fruits[-2]  Refers to the second-last element.\n",
    "#### fruits[-3]  Refers to the third-last element."
   ]
  },
  {
   "cell_type": "markdown",
   "id": "a56533a5-97d6-4cd4-a9de-0c5072e030fa",
   "metadata": {},
   "source": [
    "## 5. Questions Write a python program to calculate the average of all number a list using for loop."
   ]
  },
  {
   "cell_type": "markdown",
   "id": "ad7f61dd-155d-4081-aee5-160dcd71f58f",
   "metadata": {},
   "source": [
    "#### Sample Input: number = [1,2,3,4,5]\n",
    "#### Sample Output: 3.0\n"
   ]
  },
  {
   "cell_type": "markdown",
   "id": "aca68e99-dcee-4d39-a30e-318209ce6c62",
   "metadata": {},
   "source": [
    "### Solutions: "
   ]
  },
  {
   "cell_type": "code",
   "execution_count": 12,
   "id": "5448b6bd-9252-49d5-8151-eb945680c229",
   "metadata": {},
   "outputs": [
    {
     "name": "stdout",
     "output_type": "stream",
     "text": [
      "Average is: 3.0\n"
     ]
    }
   ],
   "source": [
    "numbers = [1, 2, 3, 4, 5]\n",
    "total = 0\n",
    "for num in numbers:\n",
    "    total += num\n",
    "average = total / len(numbers)\n",
    "print(\"Average is:\", average)\n"
   ]
  },
  {
   "cell_type": "markdown",
   "id": "bd601357-9ddb-434a-b488-f87920158c5f",
   "metadata": {},
   "source": [
    "### Explanation: "
   ]
  },
  {
   "cell_type": "markdown",
   "id": "19b8b6e5-24cf-400c-839c-e3c109159f28",
   "metadata": {},
   "source": [
    "#### 1.Calculated the sum of all numbers and stored it in total.\n",
    "#### 2️.Used len(numbers) to find the number of elements.\n",
    "#### 3️.Applied the formula: Ave = sum of number/total count."
   ]
  },
  {
   "cell_type": "markdown",
   "id": "14237ca7-ca12-4d0c-b6ea-cca3be5d659e",
   "metadata": {},
   "source": [
    "# Section 2: Lists and Dictionaries ( 5 Question Complete Explanation) "
   ]
  },
  {
   "cell_type": "markdown",
   "id": "014af555-dcc1-4757-95f0-4de99e171d7f",
   "metadata": {},
   "source": [
    "### 6.Question: Write a Python program to create a dictionary with student names as keys and their grades as values.\n"
   ]
  },
  {
   "cell_type": "markdown",
   "id": "581ab843-5458-4d3e-9855-d538d884ff6f",
   "metadata": {},
   "source": [
    "#### Sample Input: students = ['John', 'Alice', 'Bob'], grades = [90, 85, 95]\n",
    "#### Sample Output: {'John': 90, 'Alice': 85, 'Bob': 95}"
   ]
  },
  {
   "cell_type": "markdown",
   "id": "fcf2573e-e898-4e65-b1df-b51c432bb107",
   "metadata": {},
   "source": [
    "### Solutions:"
   ]
  },
  {
   "cell_type": "code",
   "execution_count": 13,
   "id": "43bad73d-8c4f-4d3e-a744-06c9840cc367",
   "metadata": {},
   "outputs": [
    {
     "name": "stdout",
     "output_type": "stream",
     "text": [
      "{'John': 90, 'Alice': 85, 'Bob': 95}\n"
     ]
    }
   ],
   "source": [
    "students = ['John', 'Alice', 'Bob']\n",
    "grades = [90, 85, 95]\n",
    "student_dict = dict(zip(students, grades))\n",
    "print(student_dict)\n"
   ]
  },
  {
   "cell_type": "markdown",
   "id": "77844075-d4c6-4a80-b83f-7d0651564493",
   "metadata": {},
   "source": [
    "### Expiation:"
   ]
  },
  {
   "cell_type": "markdown",
   "id": "b029cf9e-8a3a-42bb-a818-80ed6dcc6d25",
   "metadata": {},
   "source": [
    "#### 1. zip(students, grades) Combines both lists into pairs like ('John', 90).\n",
    "#### 2️. dict()  Converts these pairs into a dictionary.\n",
    "#### 3️. Final Output: {'John': 90, 'Alice': 85, 'Bob': 95}"
   ]
  },
  {
   "cell_type": "markdown",
   "id": "346b789f-7c4a-4e57-ab28-d9258802c5a1",
   "metadata": {},
   "source": [
    "## 7.Question: What is the output of the following code?\n"
   ]
  },
  {
   "cell_type": "markdown",
   "id": "6c2066d3-0221-4018-bf8c-295717fc28ee",
   "metadata": {},
   "source": [
    "#### Code:\n",
    "\n",
    "#### numbers = [1, 2, 3, 4, 5]\n",
    "#### print(numbers[1:3])\n",
    "#### Sample Output: [2, 3]\n"
   ]
  },
  {
   "cell_type": "markdown",
   "id": "64f0a76a-e43f-4a31-ad88-75b43a7f1de5",
   "metadata": {},
   "source": [
    "### Solutions:"
   ]
  },
  {
   "cell_type": "code",
   "execution_count": 16,
   "id": "96516fa5-f27c-4aa0-895e-3b52cdfcbf61",
   "metadata": {},
   "outputs": [
    {
     "name": "stdout",
     "output_type": "stream",
     "text": [
      "Output is: [2, 3]\n"
     ]
    }
   ],
   "source": [
    "numbers = [1, 2, 3, 4, 5]\n",
    "print(\"Output is:\",numbers[1:3])\n"
   ]
  },
  {
   "cell_type": "markdown",
   "id": "39365af1-7a86-49a0-8da0-9f8aac4e5e7e",
   "metadata": {},
   "source": [
    "### Explanation:\n"
   ]
  },
  {
   "cell_type": "markdown",
   "id": "a48fb835-e762-4002-9419-b7a058612d52",
   "metadata": {},
   "source": [
    "#### List slicing syntax: numbers[start:end]  Returns elements from start index to end-1 index.\n",
    "#### numbers[1:3]  Extracts elements from index 1 to 2 (excluding 3)."
   ]
  },
  {
   "cell_type": "markdown",
   "id": "b6f80e41-1ce0-4cdf-bc00-ca9c18489c53",
   "metadata": {},
   "source": [
    "#### Index:   0   1   2   3   4  \n",
    "#### List:    [1,  2,  3,  4,  5]  \n",
    "#### Slice:      [2,  3]\n"
   ]
  },
  {
   "cell_type": "markdown",
   "id": "151628ed-e551-449d-85e5-4a05236e8553",
   "metadata": {},
   "source": [
    "## 8. Question: Write a Python program to sort a list of numbers in ascending order using the sorted() function.\n"
   ]
  },
  {
   "cell_type": "markdown",
   "id": "e4ac949a-5df4-4f47-abbd-5dbdf6abfe74",
   "metadata": {},
   "source": [
    "#### Sample Input: numbers = [4, 2, 9, 6, 5]\n",
    "#### Sample Output: [2, 4, 5, 6, 9]\n"
   ]
  },
  {
   "cell_type": "markdown",
   "id": "7a4bb7d8-462d-4d92-b8a0-58d0ad2d3ce4",
   "metadata": {},
   "source": [
    "### Solutions:"
   ]
  },
  {
   "cell_type": "code",
   "execution_count": 17,
   "id": "8952b5d4-6256-4d66-a133-61beb2d43514",
   "metadata": {},
   "outputs": [
    {
     "name": "stdout",
     "output_type": "stream",
     "text": [
      "[2, 4, 5, 6, 9]\n"
     ]
    }
   ],
   "source": [
    "numbers = [4, 2, 9, 6, 5]\n",
    "sorted_numbers = sorted(numbers)\n",
    "print(sorted_numbers)\n"
   ]
  },
  {
   "cell_type": "markdown",
   "id": "d3d98844-fd87-46cd-b321-7ce590a0c48b",
   "metadata": {},
   "source": [
    "#### Explanation:"
   ]
  },
  {
   "cell_type": "markdown",
   "id": "6ca7874d-ca07-4eea-a84d-06ebee0152d3",
   "metadata": {},
   "source": [
    "#### 1. sorted(numbers)  Sorts the list in ascending order.\n",
    "#### 2. Returns a new sorted list without modifying the original list.\n",
    "#### 3. Output: [2, 4, 5, 6, 9]"
   ]
  },
  {
   "cell_type": "markdown",
   "id": "7cd09f3c-494d-45f3-96d0-6265d85a8d00",
   "metadata": {},
   "source": [
    "## 9. Question: What is the output of the following code?"
   ]
  },
  {
   "cell_type": "markdown",
   "id": "5e98a4e8-68fd-4cea-b458-79e9eac6db9c",
   "metadata": {},
   "source": [
    "#### Code:\n",
    "#### fruits = {'apple': 5, 'banana': 10, 'cherry': 15}\n",
    "#### print(fruits.get('banana'))\n",
    "#### Sample Output: 10\n"
   ]
  },
  {
   "cell_type": "markdown",
   "id": "57192abd-6a79-492b-9988-39d6e7b67717",
   "metadata": {},
   "source": [
    "### Solutions:"
   ]
  },
  {
   "cell_type": "code",
   "execution_count": 22,
   "id": "ab58cb8f-4bf2-4256-979a-679e8ee7ef17",
   "metadata": {},
   "outputs": [
    {
     "name": "stdout",
     "output_type": "stream",
     "text": [
      "Output is: 10\n"
     ]
    }
   ],
   "source": [
    "fruits = {'apple': 5, 'banana': 10, 'cherry': 15}\n",
    "print(\"Output is:\",fruits.get('banana'))\n",
    "\n"
   ]
  },
  {
   "cell_type": "markdown",
   "id": "b1d239ef-ba72-4bba-bba5-997af22f2fb2",
   "metadata": {},
   "source": [
    "### Explanation: "
   ]
  },
  {
   "cell_type": "markdown",
   "id": "3fdaeee5-a9d7-49b1-b692-b189c7af2cd7",
   "metadata": {},
   "source": [
    "#### 1.  .get(key) method: Returns the value of the given key from the dictionary.\n",
    "#### 2.  fruits.get('banana')  Returns 10, which is the value assigned to 'banana'."
   ]
  },
  {
   "cell_type": "markdown",
   "id": "b08ce346-a2d8-445c-9ed0-a6a460e83d0a",
   "metadata": {},
   "source": [
    "## 10. Question: Write a Python program to create a list of squares of all numbers from 1 to 10 using a list comprehension.\n",
    "\n",
    " "
   ]
  },
  {
   "cell_type": "markdown",
   "id": "5ed7b77d-3c27-4185-8409-1ca02e3ad7de",
   "metadata": {},
   "source": [
    "#### Sample Output: [1, 4, 9, 16, 25, 36, 49, 64, 81, 100]\n"
   ]
  },
  {
   "cell_type": "markdown",
   "id": "c331ca30-a1c8-4ce8-b193-feab967de11b",
   "metadata": {},
   "source": [
    "### Solutions:"
   ]
  },
  {
   "cell_type": "code",
   "execution_count": 26,
   "id": "c59e3926-430f-45a6-8167-73567d74b5f9",
   "metadata": {},
   "outputs": [
    {
     "name": "stdout",
     "output_type": "stream",
     "text": [
      "Final Output is: [1, 4, 9, 16, 25, 36, 49, 64, 81, 100]\n"
     ]
    }
   ],
   "source": [
    "squares = [x**2 for x in range(1, 11)]\n",
    "print(\"Final Output is:\",squares)\n"
   ]
  },
  {
   "cell_type": "markdown",
   "id": "b644c97e-8e7d-4338-bb91-b455931e7fe8",
   "metadata": {},
   "source": [
    "### Explanation:"
   ]
  },
  {
   "cell_type": "markdown",
   "id": "947ebe62-dded-4da8-a346-f9813f676005",
   "metadata": {},
   "source": [
    "#### 1. List comprehension syntax: [expression for item in iterabl]"
   ]
  },
  {
   "cell_type": "markdown",
   "id": "0414b5e7-84ca-4300-a1fb-319dde3fe56d",
   "metadata": {},
   "source": [
    "#### 2. x**2  Computes the square of each number.\n",
    "#### 3. range(1, 11)  Generates numbers from 1 to 10."
   ]
  },
  {
   "cell_type": "markdown",
   "id": "1ebcfd71-896e-44da-881f-87db762a605e",
   "metadata": {},
   "source": [
    "# Section 3: Advanced Topics (5 questions)\n"
   ]
  },
  {
   "cell_type": "markdown",
   "id": "c0d3dd11-5b26-4b40-a062-a65a062a5099",
   "metadata": {},
   "source": [
    "## 11.Question: Write a Python program to calculate the factorial of a number using recursion.\n"
   ]
  },
  {
   "cell_type": "markdown",
   "id": "cc658ef3-8aa2-4e50-aa3a-9b2013cecf85",
   "metadata": {},
   "source": [
    "#### Sample Input: num = 5\n",
    "#### Sample Output: 120"
   ]
  },
  {
   "cell_type": "markdown",
   "id": "9db63913-9194-40ae-850a-0c34787c2d73",
   "metadata": {},
   "source": [
    "### Solution:"
   ]
  },
  {
   "cell_type": "code",
   "execution_count": 2,
   "id": "15e31761-408a-4834-9061-5fd8e8292d69",
   "metadata": {},
   "outputs": [
    {
     "name": "stdout",
     "output_type": "stream",
     "text": [
      "Factorial Number is: 120\n"
     ]
    }
   ],
   "source": [
    "\n",
    "def factorial(n):\n",
    "    if n == 0 or n == 1:\n",
    "        return 1 \n",
    "    else:\n",
    "        return n * factorial(n - 1)  \n",
    "num = 5\n",
    "print(\"Factorial Number is:\",factorial(num))  \n"
   ]
  },
  {
   "cell_type": "markdown",
   "id": "376c9027-3b94-4b1b-81a1-b6ea34231ff7",
   "metadata": {},
   "source": [
    "### Expiation: "
   ]
  },
  {
   "cell_type": "markdown",
   "id": "167302a9-0fac-42b5-9268-6ad87398f544",
   "metadata": {},
   "source": [
    "#### 1. Base Case: If n is 0 or 1, return 1.\n",
    "#### 2. Recursive Case: n * factorial(n-1) calls itself until n = 1.\n"
   ]
  },
  {
   "cell_type": "markdown",
   "id": "6c27f650-1c1c-4393-96d2-e8ab1757a08e",
   "metadata": {},
   "source": [
    "## 12. Question: What is the output of the following code?\n"
   ]
  },
  {
   "cell_type": "markdown",
   "id": "1376c835-325b-489a-9d54-3b1621f40b5c",
   "metadata": {},
   "source": [
    "#### Code:\n",
    "#### numbers = [1, 2, 3, 4, 5]\n",
    "#### print(list(reversed(numbers)))\n",
    "#### Sample Output: [5, 4, 3, 2, 1]\n"
   ]
  },
  {
   "cell_type": "markdown",
   "id": "25e75acf-a445-4a8d-af89-bb913f376b8e",
   "metadata": {},
   "source": [
    "### Solution:\n"
   ]
  },
  {
   "cell_type": "code",
   "execution_count": 3,
   "id": "da4f3a6d-6cb5-4f50-bb77-8dfe16b3216b",
   "metadata": {},
   "outputs": [
    {
     "name": "stdout",
     "output_type": "stream",
     "text": [
      "Reversed Number is: [5, 4, 3, 2, 1]\n"
     ]
    }
   ],
   "source": [
    "numbers = [1, 2, 3, 4, 5]\n",
    "print(\"Reversed Number is:\",list(reversed(numbers)))\n"
   ]
  },
  {
   "cell_type": "markdown",
   "id": "11da60f6-3c40-4f54-a4ab-ac957095cddb",
   "metadata": {},
   "source": [
    "### Expiation: "
   ]
  },
  {
   "cell_type": "markdown",
   "id": "05aa4735-0ab5-485c-b9e8-b06dff2d0f2f",
   "metadata": {},
   "source": [
    "#### 1. reversed(numbers)  Returns an iterator for the reversed list.\n",
    "#### 2. list(reversed(numbers))  Converts the iterator into a list."
   ]
  },
  {
   "cell_type": "markdown",
   "id": "3bd5f92a-aef4-438e-b662-1de907515227",
   "metadata": {},
   "source": [
    "## 13. Question: Write a Python program to create a generator that yields the Fibonacci sequence up to the nth term.\n"
   ]
  },
  {
   "cell_type": "markdown",
   "id": "f97ddae2-cff3-4413-8551-988ce7a2a278",
   "metadata": {},
   "source": [
    "#### Sample Input: n = 10\n",
    "#### Sample Output: [0, 1, 1, 2, 3, 5, 8, 13, 21, 34]\n"
   ]
  },
  {
   "cell_type": "markdown",
   "id": "37922550-78b5-4313-b4fa-59c2443421cd",
   "metadata": {},
   "source": [
    "### Solutions: "
   ]
  },
  {
   "cell_type": "code",
   "execution_count": 5,
   "id": "e676efa2-837d-4fcd-b663-8d546b599af6",
   "metadata": {},
   "outputs": [
    {
     "name": "stdout",
     "output_type": "stream",
     "text": [
      "Fibonacci serice is: [0, 1, 1, 2, 3, 5, 8, 13, 21, 34]\n"
     ]
    }
   ],
   "source": [
    "def fibonacci(n):\n",
    "    a, b = 0, 1\n",
    "    for _ in range(n):\n",
    "        yield a\n",
    "        a, b = b, a + b  \n",
    "n = 10\n",
    "print(\"Fibonacci serice is:\",list(fibonacci(n)))\n"
   ]
  },
  {
   "cell_type": "markdown",
   "id": "42f758e4-26d3-43f6-b3d8-3304d5e10fa4",
   "metadata": {},
   "source": [
    "### Explanation: "
   ]
  },
  {
   "cell_type": "markdown",
   "id": "a2d94e0c-9c8b-470a-971f-0547abc2669f",
   "metadata": {},
   "source": [
    "#### 1. yield Statement: Generates values on demand (efficient memory usage).\n",
    "#### 2.  Fibonacci Formula: Next number = Sum of previous two numbers\n"
   ]
  },
  {
   "cell_type": "markdown",
   "id": "f44e107a-98aa-4f64-be79-e6059c60ec0e",
   "metadata": {},
   "source": [
    "## 14. Question: What is the output of the following code?\n",
    "\n"
   ]
  },
  {
   "cell_type": "markdown",
   "id": "4f0f6800-89ce-4d1a-9315-c0e4c3f4de29",
   "metadata": {},
   "source": [
    "#### Code:\n",
    "#### import math\n",
    "#### print(math.pi)\n",
    "#### Sample Output: 3.14159..."
   ]
  },
  {
   "cell_type": "markdown",
   "id": "d2e63732-ed61-4411-a834-bf60658b625d",
   "metadata": {},
   "source": [
    "### Solution:"
   ]
  },
  {
   "cell_type": "code",
   "execution_count": 9,
   "id": "5cb22eb1-c3ca-43ce-b184-3f6b7563aa43",
   "metadata": {},
   "outputs": [
    {
     "name": "stdout",
     "output_type": "stream",
     "text": [
      "Output is: 3.141592653589793\n"
     ]
    }
   ],
   "source": [
    "import math\n",
    "print(\"Output is:\",math.pi)\n"
   ]
  },
  {
   "cell_type": "markdown",
   "id": "e777228e-56b3-4f5d-b70c-b68664293363",
   "metadata": {},
   "source": [
    "### Explations:"
   ]
  },
  {
   "cell_type": "markdown",
   "id": "7bef556b-94f8-4fcd-b381-d3ed53547c73",
   "metadata": {},
   "source": [
    "#### 1. math.pi is a built-in constant in Python that provides the most accurate value of π.\n",
    "#### 2. This value is commonly used in geometry and trigonometry."
   ]
  },
  {
   "cell_type": "markdown",
   "id": "7ff47d47-8233-4b9c-8a60-858ad2439ba3",
   "metadata": {},
   "source": [
    "## 15. Questions: Write a Python program to print the inverted star pyramid of height 5.\n"
   ]
  },
  {
   "cell_type": "markdown",
   "id": "9cd6a153-9d2a-4650-a35f-e397fb8e62bd",
   "metadata": {},
   "source": [
    "### Solution: "
   ]
  },
  {
   "cell_type": "code",
   "execution_count": 10,
   "id": "e6bad665-3e99-4b35-bf12-b8891e5c52fb",
   "metadata": {},
   "outputs": [
    {
     "name": "stdout",
     "output_type": "stream",
     "text": [
      "*********\n",
      " *******\n",
      "  *****\n",
      "   ***\n",
      "    *\n"
     ]
    }
   ],
   "source": [
    "def inverted_pyramid(n):\n",
    "    for i in range(n, 0, -1):  \n",
    "        spaces = (n - i) * \" \"  \n",
    "        stars = (2 * i - 1) * \"*\"  \n",
    "        print(spaces + stars)  \n",
    "inverted_pyramid(5)\n"
   ]
  },
  {
   "cell_type": "markdown",
   "id": "d5ca8bdb-fe3e-4444-bd24-8f177fb27014",
   "metadata": {},
   "source": [
    "### Explanation:"
   ]
  },
  {
   "cell_type": "markdown",
   "id": "4aa0341c-ac0c-4d38-85ef-9b091143c907",
   "metadata": {},
   "source": [
    "#### 1. Loop runs from n to 1 (descending order).\n",
    "#### 2. Spaces: (n - i) spaces are printed to center the stars.\n",
    "#### 3.Stars: (2 * i - 1) ensures the correct pyramid shape."
   ]
  },
  {
   "cell_type": "code",
   "execution_count": null,
   "id": "0e1dd617-e448-43ee-bfdf-46ab34431ce7",
   "metadata": {},
   "outputs": [],
   "source": []
  }
 ],
 "metadata": {
  "kernelspec": {
   "display_name": "Python 3 (ipykernel)",
   "language": "python",
   "name": "python3"
  },
  "language_info": {
   "codemirror_mode": {
    "name": "ipython",
    "version": 3
   },
   "file_extension": ".py",
   "mimetype": "text/x-python",
   "name": "python",
   "nbconvert_exporter": "python",
   "pygments_lexer": "ipython3",
   "version": "3.12.7"
  }
 },
 "nbformat": 4,
 "nbformat_minor": 5
}
